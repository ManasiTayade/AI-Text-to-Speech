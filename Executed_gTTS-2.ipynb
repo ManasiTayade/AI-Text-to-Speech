{
  "nbformat": 4,
  "nbformat_minor": 0,
  "metadata": {
    "colab": {
      "name": "Executed-gTTS.ipynb",
      "provenance": [],
      "collapsed_sections": []
    },
    "kernelspec": {
      "name": "python3",
      "display_name": "Python 3"
    }
  },
  "cells": [
    {
      "cell_type": "code",
      "metadata": {
        "id": "GRGQ3DmI9CZx",
        "outputId": "0bbaca5d-fbba-46ca-df19-ae821a977e5c",
        "colab": {
          "base_uri": "https://localhost:8080/"
        }
      },
      "source": [
        "!pip install gtts"
      ],
      "execution_count": 1,
      "outputs": [
        {
          "output_type": "stream",
          "text": [
            "Collecting gtts\n",
            "  Downloading https://files.pythonhosted.org/packages/44/31/4494ecac89677d3c839d079363ab655c4751764803ddcd22bcc37f6d32f8/gTTS-2.2.1-py3-none-any.whl\n",
            "Requirement already satisfied: requests in /usr/local/lib/python3.6/dist-packages (from gtts) (2.23.0)\n",
            "Requirement already satisfied: click in /usr/local/lib/python3.6/dist-packages (from gtts) (7.1.2)\n",
            "Requirement already satisfied: six in /usr/local/lib/python3.6/dist-packages (from gtts) (1.15.0)\n",
            "Requirement already satisfied: idna<3,>=2.5 in /usr/local/lib/python3.6/dist-packages (from requests->gtts) (2.10)\n",
            "Requirement already satisfied: certifi>=2017.4.17 in /usr/local/lib/python3.6/dist-packages (from requests->gtts) (2020.6.20)\n",
            "Requirement already satisfied: chardet<4,>=3.0.2 in /usr/local/lib/python3.6/dist-packages (from requests->gtts) (3.0.4)\n",
            "Requirement already satisfied: urllib3!=1.25.0,!=1.25.1,<1.26,>=1.21.1 in /usr/local/lib/python3.6/dist-packages (from requests->gtts) (1.24.3)\n",
            "Installing collected packages: gtts\n",
            "Successfully installed gtts-2.2.1\n"
          ],
          "name": "stdout"
        }
      ]
    },
    {
      "cell_type": "code",
      "metadata": {
        "id": "qZpvo7-K8-yb"
      },
      "source": [
        "from gtts import gTTS #Import Google Text to Speech\n",
        "from IPython.display import Audio #Import Audio method from IPython's Display Class"
      ],
      "execution_count": 2,
      "outputs": []
    },
    {
      "cell_type": "code",
      "metadata": {
        "id": "Ha90wur9vSHI",
        "outputId": "2831e863-c5b9-4640-9c80-edfe091155e1",
        "colab": {
          "base_uri": "https://localhost:8080/",
          "height": 69
        }
      },
      "source": [
        "text = str(input('Enter a sentence: ')) #The text variable is a string used to store the user’s input\n",
        "language = 'en'  \n",
        "tts = gTTS(text=text, lang=language, slow=False) #The tts variable is used to perform the Google text-to-speech translation on the user’s input\n",
        "tts.save('10.wav')  #The tts.save function allows us to save the converted speech in a format that allows us to play sounds\n",
        "Audio('10.wav', autoplay=True)\n",
        "\n",
        "\n"
      ],
      "execution_count": 4,
      "outputs": [
        {
          "output_type": "stream",
          "text": [
            "Enter a sentence: how you doing\n"
          ],
          "name": "stdout"
        },
        {
          "output_type": "execute_result",
          "data": {
            "text/html": [
              "\n",
              "                <audio controls=\"controls\" autoplay=\"autoplay\">\n",
              "                    <source src=\"data:audio/x-wav;base64,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\" type=\"audio/x-wav\" />\n",
              "                    Your browser does not support the audio element.\n",
              "                </audio>\n",
              "              "
            ],
            "text/plain": [
              "<IPython.lib.display.Audio object>"
            ]
          },
          "metadata": {
            "tags": []
          },
          "execution_count": 4
        }
      ]
    },
    {
      "cell_type": "code",
      "metadata": {
        "id": "OfgpKkBZqtZL"
      },
      "source": [
        ""
      ],
      "execution_count": 10,
      "outputs": []
    },
    {
      "cell_type": "code",
      "metadata": {
        "id": "ouJFTAQ-qtdq"
      },
      "source": [
        ""
      ],
      "execution_count": 10,
      "outputs": []
    },
    {
      "cell_type": "code",
      "metadata": {
        "id": "zlLtJ7Z6qtSB"
      },
      "source": [
        ""
      ],
      "execution_count": 10,
      "outputs": []
    },
    {
      "cell_type": "code",
      "metadata": {
        "id": "iGF456iQqtOo"
      },
      "source": [
        ""
      ],
      "execution_count": 10,
      "outputs": []
    },
    {
      "cell_type": "code",
      "metadata": {
        "id": "JR7YrGV4qtLh"
      },
      "source": [
        ""
      ],
      "execution_count": 10,
      "outputs": []
    },
    {
      "cell_type": "code",
      "metadata": {
        "id": "7o8xDDb5qtIB"
      },
      "source": [
        ""
      ],
      "execution_count": 10,
      "outputs": []
    }
  ]
}